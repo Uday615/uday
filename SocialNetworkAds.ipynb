{
  "cells": [
    {
      "cell_type": "markdown",
      "metadata": {
        "id": "view-in-github",
        "colab_type": "text"
      },
      "source": [
        "<a href=\"https://colab.research.google.com/github/Uday615/uday/blob/main/SocialNetworkAds.ipynb\" target=\"_parent\"><img src=\"https://colab.research.google.com/assets/colab-badge.svg\" alt=\"Open In Colab\"/></a>"
      ]
    },
    {
      "cell_type": "code",
      "execution_count": 5,
      "id": "f4deabef",
      "metadata": {
        "id": "f4deabef"
      },
      "outputs": [],
      "source": [
        "#importing  required libraries\n",
        "import pandas as pd\n",
        "import numpy as np\n",
        "import matplotlib.pyplot as plt"
      ]
    },
    {
      "cell_type": "code",
      "execution_count": 6,
      "id": "e962eafe",
      "metadata": {
        "id": "e962eafe"
      },
      "outputs": [],
      "source": [
        "#Loading  datasets\n",
        "dataset=pd.read_csv(\"/content/Social_Network_Ads.csv\")"
      ]
    },
    {
      "cell_type": "code",
      "execution_count": 7,
      "id": "12209039",
      "metadata": {
        "colab": {
          "base_uri": "https://localhost:8080/",
          "height": 206
        },
        "id": "12209039",
        "outputId": "254d4a76-d033-4c07-95ac-4fb6f209429b"
      },
      "outputs": [
        {
          "output_type": "execute_result",
          "data": {
            "text/plain": [
              "    User ID  Gender  Age  EstimatedSalary  Purchased\n",
              "0  15624510    Male   19            19000          0\n",
              "1  15810944    Male   35            20000          0\n",
              "2  15668575  Female   26            43000          0\n",
              "3  15603246  Female   27            57000          0\n",
              "4  15804002    Male   19            76000          0"
            ],
            "text/html": [
              "\n",
              "  <div id=\"df-26cbcaa6-5b41-4ebe-b270-d2a9e5ab39dc\" class=\"colab-df-container\">\n",
              "    <div>\n",
              "<style scoped>\n",
              "    .dataframe tbody tr th:only-of-type {\n",
              "        vertical-align: middle;\n",
              "    }\n",
              "\n",
              "    .dataframe tbody tr th {\n",
              "        vertical-align: top;\n",
              "    }\n",
              "\n",
              "    .dataframe thead th {\n",
              "        text-align: right;\n",
              "    }\n",
              "</style>\n",
              "<table border=\"1\" class=\"dataframe\">\n",
              "  <thead>\n",
              "    <tr style=\"text-align: right;\">\n",
              "      <th></th>\n",
              "      <th>User ID</th>\n",
              "      <th>Gender</th>\n",
              "      <th>Age</th>\n",
              "      <th>EstimatedSalary</th>\n",
              "      <th>Purchased</th>\n",
              "    </tr>\n",
              "  </thead>\n",
              "  <tbody>\n",
              "    <tr>\n",
              "      <th>0</th>\n",
              "      <td>15624510</td>\n",
              "      <td>Male</td>\n",
              "      <td>19</td>\n",
              "      <td>19000</td>\n",
              "      <td>0</td>\n",
              "    </tr>\n",
              "    <tr>\n",
              "      <th>1</th>\n",
              "      <td>15810944</td>\n",
              "      <td>Male</td>\n",
              "      <td>35</td>\n",
              "      <td>20000</td>\n",
              "      <td>0</td>\n",
              "    </tr>\n",
              "    <tr>\n",
              "      <th>2</th>\n",
              "      <td>15668575</td>\n",
              "      <td>Female</td>\n",
              "      <td>26</td>\n",
              "      <td>43000</td>\n",
              "      <td>0</td>\n",
              "    </tr>\n",
              "    <tr>\n",
              "      <th>3</th>\n",
              "      <td>15603246</td>\n",
              "      <td>Female</td>\n",
              "      <td>27</td>\n",
              "      <td>57000</td>\n",
              "      <td>0</td>\n",
              "    </tr>\n",
              "    <tr>\n",
              "      <th>4</th>\n",
              "      <td>15804002</td>\n",
              "      <td>Male</td>\n",
              "      <td>19</td>\n",
              "      <td>76000</td>\n",
              "      <td>0</td>\n",
              "    </tr>\n",
              "  </tbody>\n",
              "</table>\n",
              "</div>\n",
              "    <div class=\"colab-df-buttons\">\n",
              "\n",
              "  <div class=\"colab-df-container\">\n",
              "    <button class=\"colab-df-convert\" onclick=\"convertToInteractive('df-26cbcaa6-5b41-4ebe-b270-d2a9e5ab39dc')\"\n",
              "            title=\"Convert this dataframe to an interactive table.\"\n",
              "            style=\"display:none;\">\n",
              "\n",
              "  <svg xmlns=\"http://www.w3.org/2000/svg\" height=\"24px\" viewBox=\"0 -960 960 960\">\n",
              "    <path d=\"M120-120v-720h720v720H120Zm60-500h600v-160H180v160Zm220 220h160v-160H400v160Zm0 220h160v-160H400v160ZM180-400h160v-160H180v160Zm440 0h160v-160H620v160ZM180-180h160v-160H180v160Zm440 0h160v-160H620v160Z\"/>\n",
              "  </svg>\n",
              "    </button>\n",
              "\n",
              "  <style>\n",
              "    .colab-df-container {\n",
              "      display:flex;\n",
              "      gap: 12px;\n",
              "    }\n",
              "\n",
              "    .colab-df-convert {\n",
              "      background-color: #E8F0FE;\n",
              "      border: none;\n",
              "      border-radius: 50%;\n",
              "      cursor: pointer;\n",
              "      display: none;\n",
              "      fill: #1967D2;\n",
              "      height: 32px;\n",
              "      padding: 0 0 0 0;\n",
              "      width: 32px;\n",
              "    }\n",
              "\n",
              "    .colab-df-convert:hover {\n",
              "      background-color: #E2EBFA;\n",
              "      box-shadow: 0px 1px 2px rgba(60, 64, 67, 0.3), 0px 1px 3px 1px rgba(60, 64, 67, 0.15);\n",
              "      fill: #174EA6;\n",
              "    }\n",
              "\n",
              "    .colab-df-buttons div {\n",
              "      margin-bottom: 4px;\n",
              "    }\n",
              "\n",
              "    [theme=dark] .colab-df-convert {\n",
              "      background-color: #3B4455;\n",
              "      fill: #D2E3FC;\n",
              "    }\n",
              "\n",
              "    [theme=dark] .colab-df-convert:hover {\n",
              "      background-color: #434B5C;\n",
              "      box-shadow: 0px 1px 3px 1px rgba(0, 0, 0, 0.15);\n",
              "      filter: drop-shadow(0px 1px 2px rgba(0, 0, 0, 0.3));\n",
              "      fill: #FFFFFF;\n",
              "    }\n",
              "  </style>\n",
              "\n",
              "    <script>\n",
              "      const buttonEl =\n",
              "        document.querySelector('#df-26cbcaa6-5b41-4ebe-b270-d2a9e5ab39dc button.colab-df-convert');\n",
              "      buttonEl.style.display =\n",
              "        google.colab.kernel.accessAllowed ? 'block' : 'none';\n",
              "\n",
              "      async function convertToInteractive(key) {\n",
              "        const element = document.querySelector('#df-26cbcaa6-5b41-4ebe-b270-d2a9e5ab39dc');\n",
              "        const dataTable =\n",
              "          await google.colab.kernel.invokeFunction('convertToInteractive',\n",
              "                                                    [key], {});\n",
              "        if (!dataTable) return;\n",
              "\n",
              "        const docLinkHtml = 'Like what you see? Visit the ' +\n",
              "          '<a target=\"_blank\" href=https://colab.research.google.com/notebooks/data_table.ipynb>data table notebook</a>'\n",
              "          + ' to learn more about interactive tables.';\n",
              "        element.innerHTML = '';\n",
              "        dataTable['output_type'] = 'display_data';\n",
              "        await google.colab.output.renderOutput(dataTable, element);\n",
              "        const docLink = document.createElement('div');\n",
              "        docLink.innerHTML = docLinkHtml;\n",
              "        element.appendChild(docLink);\n",
              "      }\n",
              "    </script>\n",
              "  </div>\n",
              "\n",
              "\n",
              "<div id=\"df-52cb6e13-0c33-4152-a8eb-74fb23821276\">\n",
              "  <button class=\"colab-df-quickchart\" onclick=\"quickchart('df-52cb6e13-0c33-4152-a8eb-74fb23821276')\"\n",
              "            title=\"Suggest charts\"\n",
              "            style=\"display:none;\">\n",
              "\n",
              "<svg xmlns=\"http://www.w3.org/2000/svg\" height=\"24px\"viewBox=\"0 0 24 24\"\n",
              "     width=\"24px\">\n",
              "    <g>\n",
              "        <path d=\"M19 3H5c-1.1 0-2 .9-2 2v14c0 1.1.9 2 2 2h14c1.1 0 2-.9 2-2V5c0-1.1-.9-2-2-2zM9 17H7v-7h2v7zm4 0h-2V7h2v10zm4 0h-2v-4h2v4z\"/>\n",
              "    </g>\n",
              "</svg>\n",
              "  </button>\n",
              "\n",
              "<style>\n",
              "  .colab-df-quickchart {\n",
              "      --bg-color: #E8F0FE;\n",
              "      --fill-color: #1967D2;\n",
              "      --hover-bg-color: #E2EBFA;\n",
              "      --hover-fill-color: #174EA6;\n",
              "      --disabled-fill-color: #AAA;\n",
              "      --disabled-bg-color: #DDD;\n",
              "  }\n",
              "\n",
              "  [theme=dark] .colab-df-quickchart {\n",
              "      --bg-color: #3B4455;\n",
              "      --fill-color: #D2E3FC;\n",
              "      --hover-bg-color: #434B5C;\n",
              "      --hover-fill-color: #FFFFFF;\n",
              "      --disabled-bg-color: #3B4455;\n",
              "      --disabled-fill-color: #666;\n",
              "  }\n",
              "\n",
              "  .colab-df-quickchart {\n",
              "    background-color: var(--bg-color);\n",
              "    border: none;\n",
              "    border-radius: 50%;\n",
              "    cursor: pointer;\n",
              "    display: none;\n",
              "    fill: var(--fill-color);\n",
              "    height: 32px;\n",
              "    padding: 0;\n",
              "    width: 32px;\n",
              "  }\n",
              "\n",
              "  .colab-df-quickchart:hover {\n",
              "    background-color: var(--hover-bg-color);\n",
              "    box-shadow: 0 1px 2px rgba(60, 64, 67, 0.3), 0 1px 3px 1px rgba(60, 64, 67, 0.15);\n",
              "    fill: var(--button-hover-fill-color);\n",
              "  }\n",
              "\n",
              "  .colab-df-quickchart-complete:disabled,\n",
              "  .colab-df-quickchart-complete:disabled:hover {\n",
              "    background-color: var(--disabled-bg-color);\n",
              "    fill: var(--disabled-fill-color);\n",
              "    box-shadow: none;\n",
              "  }\n",
              "\n",
              "  .colab-df-spinner {\n",
              "    border: 2px solid var(--fill-color);\n",
              "    border-color: transparent;\n",
              "    border-bottom-color: var(--fill-color);\n",
              "    animation:\n",
              "      spin 1s steps(1) infinite;\n",
              "  }\n",
              "\n",
              "  @keyframes spin {\n",
              "    0% {\n",
              "      border-color: transparent;\n",
              "      border-bottom-color: var(--fill-color);\n",
              "      border-left-color: var(--fill-color);\n",
              "    }\n",
              "    20% {\n",
              "      border-color: transparent;\n",
              "      border-left-color: var(--fill-color);\n",
              "      border-top-color: var(--fill-color);\n",
              "    }\n",
              "    30% {\n",
              "      border-color: transparent;\n",
              "      border-left-color: var(--fill-color);\n",
              "      border-top-color: var(--fill-color);\n",
              "      border-right-color: var(--fill-color);\n",
              "    }\n",
              "    40% {\n",
              "      border-color: transparent;\n",
              "      border-right-color: var(--fill-color);\n",
              "      border-top-color: var(--fill-color);\n",
              "    }\n",
              "    60% {\n",
              "      border-color: transparent;\n",
              "      border-right-color: var(--fill-color);\n",
              "    }\n",
              "    80% {\n",
              "      border-color: transparent;\n",
              "      border-right-color: var(--fill-color);\n",
              "      border-bottom-color: var(--fill-color);\n",
              "    }\n",
              "    90% {\n",
              "      border-color: transparent;\n",
              "      border-bottom-color: var(--fill-color);\n",
              "    }\n",
              "  }\n",
              "</style>\n",
              "\n",
              "  <script>\n",
              "    async function quickchart(key) {\n",
              "      const quickchartButtonEl =\n",
              "        document.querySelector('#' + key + ' button');\n",
              "      quickchartButtonEl.disabled = true;  // To prevent multiple clicks.\n",
              "      quickchartButtonEl.classList.add('colab-df-spinner');\n",
              "      try {\n",
              "        const charts = await google.colab.kernel.invokeFunction(\n",
              "            'suggestCharts', [key], {});\n",
              "      } catch (error) {\n",
              "        console.error('Error during call to suggestCharts:', error);\n",
              "      }\n",
              "      quickchartButtonEl.classList.remove('colab-df-spinner');\n",
              "      quickchartButtonEl.classList.add('colab-df-quickchart-complete');\n",
              "    }\n",
              "    (() => {\n",
              "      let quickchartButtonEl =\n",
              "        document.querySelector('#df-52cb6e13-0c33-4152-a8eb-74fb23821276 button');\n",
              "      quickchartButtonEl.style.display =\n",
              "        google.colab.kernel.accessAllowed ? 'block' : 'none';\n",
              "    })();\n",
              "  </script>\n",
              "</div>\n",
              "\n",
              "    </div>\n",
              "  </div>\n"
            ],
            "application/vnd.google.colaboratory.intrinsic+json": {
              "type": "dataframe",
              "variable_name": "dataset",
              "summary": "{\n  \"name\": \"dataset\",\n  \"rows\": 400,\n  \"fields\": [\n    {\n      \"column\": \"User ID\",\n      \"properties\": {\n        \"dtype\": \"number\",\n        \"std\": 71658,\n        \"min\": 15566689,\n        \"max\": 15815236,\n        \"num_unique_values\": 400,\n        \"samples\": [\n          15697424,\n          15609669,\n          15776733\n        ],\n        \"semantic_type\": \"\",\n        \"description\": \"\"\n      }\n    },\n    {\n      \"column\": \"Gender\",\n      \"properties\": {\n        \"dtype\": \"category\",\n        \"num_unique_values\": 2,\n        \"samples\": [\n          \"Female\",\n          \"Male\"\n        ],\n        \"semantic_type\": \"\",\n        \"description\": \"\"\n      }\n    },\n    {\n      \"column\": \"Age\",\n      \"properties\": {\n        \"dtype\": \"number\",\n        \"std\": 10,\n        \"min\": 18,\n        \"max\": 60,\n        \"num_unique_values\": 43,\n        \"samples\": [\n          50,\n          39\n        ],\n        \"semantic_type\": \"\",\n        \"description\": \"\"\n      }\n    },\n    {\n      \"column\": \"EstimatedSalary\",\n      \"properties\": {\n        \"dtype\": \"number\",\n        \"std\": 34096,\n        \"min\": 15000,\n        \"max\": 150000,\n        \"num_unique_values\": 117,\n        \"samples\": [\n          117000,\n          76000\n        ],\n        \"semantic_type\": \"\",\n        \"description\": \"\"\n      }\n    },\n    {\n      \"column\": \"Purchased\",\n      \"properties\": {\n        \"dtype\": \"number\",\n        \"std\": 0,\n        \"min\": 0,\n        \"max\": 1,\n        \"num_unique_values\": 2,\n        \"samples\": [\n          1,\n          0\n        ],\n        \"semantic_type\": \"\",\n        \"description\": \"\"\n      }\n    }\n  ]\n}"
            }
          },
          "metadata": {},
          "execution_count": 7
        }
      ],
      "source": [
        "dataset.head()"
      ]
    },
    {
      "cell_type": "code",
      "execution_count": 8,
      "id": "4e0dc4c8",
      "metadata": {
        "colab": {
          "base_uri": "https://localhost:8080/",
          "height": 449
        },
        "id": "4e0dc4c8",
        "outputId": "e60cf2d2-d783-4ffd-e10d-47d2e230fb6a"
      },
      "outputs": [
        {
          "output_type": "display_data",
          "data": {
            "text/plain": [
              "<Figure size 640x480 with 1 Axes>"
            ],
            "image/png": "[encoded data removed]"
          },
          "metadata": {}
        }
      ],
      "source": [
        "plt.scatter(dataset[\"Age\"],dataset[\"Purchased\"])\n",
        "plt.xlabel(\"Age\")\n",
        "plt.ylabel(\"Purchased\")\n",
        "plt.show()"
      ]
    },
    {
      "cell_type": "code",
      "execution_count": 9,
      "id": "7806d582",
      "metadata": {
        "colab": {
          "base_uri": "https://localhost:8080/",
          "height": 449
        },
        "id": "7806d582",
        "outputId": "95034cb1-fd85-4560-b1b4-840fc099a2a2"
      },
      "outputs": [
        {
          "output_type": "display_data",
          "data": {
            "text/plain": [
              "<Figure size 640x480 with 1 Axes>"
            ],
            "image/png": "[encoded data removed]"
          },
          "metadata": {}
        }
      ],
      "source": [
        "plt.scatter(dataset[\"EstimatedSalary\"],dataset[\"Purchased\"],color='red')\n",
        "plt.xlabel(\"EstimatedSalary\")\n",
        "plt.ylabel(\"Purchased\")\n",
        "plt.show()"
      ]
    },
    {
      "cell_type": "code",
      "execution_count": 10,
      "id": "bbbe60b6",
      "metadata": {
        "id": "bbbe60b6"
      },
      "outputs": [],
      "source": [
        "#Extracting Independent features(Age,EstimatedSalary) from dataset\n",
        "X= dataset.iloc[:, [2,3]].values"
      ]
    },
    {
      "cell_type": "code",
      "execution_count": 11,
      "id": "f418cae1",
      "metadata": {
        "colab": {
          "base_uri": "https://localhost:8080/"
        },
        "id": "f418cae1",
        "outputId": "779cd752-95e1-4201-f712-ec2c181d6659"
      },
      "outputs": [
        {
          "output_type": "execute_result",
          "data": {
            "text/plain": [
              "(400, 2)"
            ]
          },
          "metadata": {},
          "execution_count": 11
        }
      ],
      "source": [
        "X.shape"
      ]
    },
    {
      "cell_type": "code",
      "execution_count": 12,
      "id": "0878e9b3",
      "metadata": {
        "id": "0878e9b3"
      },
      "outputs": [],
      "source": [
        "#Extracting dependent(Purchased) from dataset\n",
        "y= dataset.iloc[:, 4].values"
      ]
    },
    {
      "cell_type": "code",
      "execution_count": 13,
      "id": "4549ce4e",
      "metadata": {
        "colab": {
          "base_uri": "https://localhost:8080/"
        },
        "id": "4549ce4e",
        "outputId": "c758b831-20e3-42a4-c8ca-cbf5acf04866"
      },
      "outputs": [
        {
          "output_type": "execute_result",
          "data": {
            "text/plain": [
              "(400,)"
            ]
          },
          "metadata": {},
          "execution_count": 13
        }
      ],
      "source": [
        "y.shape"
      ]
    },
    {
      "cell_type": "code",
      "execution_count": 14,
      "id": "3a22de61",
      "metadata": {
        "id": "3a22de61"
      },
      "outputs": [],
      "source": [
        "# Splitting the dataset into training and test set.\n",
        "from sklearn.model_selection import train_test_split\n",
        "X_train, X_test, y_train, y_test= train_test_split(X, y, test_size= 0.2, random_state=40)"
      ]
    },
    {
      "cell_type": "code",
      "execution_count": 15,
      "id": "de8768fb",
      "metadata": {
        "colab": {
          "base_uri": "https://localhost:8080/"
        },
        "id": "de8768fb",
        "outputId": "0453407f-8178-49c5-e5db-ccd8497232da"
      },
      "outputs": [
        {
          "output_type": "execute_result",
          "data": {
            "text/plain": [
              "(320, 2)"
            ]
          },
          "metadata": {},
          "execution_count": 15
        }
      ],
      "source": [
        "X_train.shape"
      ]
    },
    {
      "cell_type": "code",
      "execution_count": 16,
      "id": "1994eddf",
      "metadata": {
        "colab": {
          "base_uri": "https://localhost:8080/"
        },
        "id": "1994eddf",
        "outputId": "2eb334b1-93d4-45ed-aafe-70d1708e29c9"
      },
      "outputs": [
        {
          "output_type": "execute_result",
          "data": {
            "text/plain": [
              "(320,)"
            ]
          },
          "metadata": {},
          "execution_count": 16
        }
      ],
      "source": [
        "y_train.shape"
      ]
    },
    {
      "cell_type": "code",
      "execution_count": 17,
      "id": "1b5dad42",
      "metadata": {
        "colab": {
          "base_uri": "https://localhost:8080/"
        },
        "id": "1b5dad42",
        "outputId": "b7ac4aa2-632f-4f0c-9b68-06f447fbdb76"
      },
      "outputs": [
        {
          "output_type": "execute_result",
          "data": {
            "text/plain": [
              "(80, 2)"
            ]
          },
          "metadata": {},
          "execution_count": 17
        }
      ],
      "source": [
        "X_test.shape"
      ]
    },
    {
      "cell_type": "code",
      "execution_count": 18,
      "id": "deda68cb",
      "metadata": {
        "colab": {
          "base_uri": "https://localhost:8080/"
        },
        "id": "deda68cb",
        "outputId": "18b01374-80e4-4a35-fedc-c32b2ef47fee"
      },
      "outputs": [
        {
          "output_type": "execute_result",
          "data": {
            "text/plain": [
              "(80,)"
            ]
          },
          "metadata": {},
          "execution_count": 18
        }
      ],
      "source": [
        "y_test.shape"
      ]
    },
    {
      "cell_type": "code",
      "execution_count": 19,
      "id": "71e6d14a",
      "metadata": {
        "id": "71e6d14a"
      },
      "outputs": [],
      "source": [
        "    # Scaling  Z\n",
        "    from sklearn.preprocessing import StandardScaler\n",
        "    st_x= StandardScaler()\n",
        "    X_train= st_x.fit_transform(X_train)\n",
        "    X_test= st_x.transform(X_test)"
      ]
    },
    {
      "cell_type": "code",
      "execution_count": 20,
      "id": "1646a85b",
      "metadata": {
        "colab": {
          "base_uri": "https://localhost:8080/"
        },
        "id": "1646a85b",
        "outputId": "1f414855-d2a5-4a54-aaf6-225890e8650c"
      },
      "outputs": [
        {
          "output_type": "execute_result",
          "data": {
            "text/plain": [
              "array([[-0.70562757,  1.36559977],\n",
              "       [-0.70562757, -0.07833337],\n",
              "       [ 0.26472405,  0.00830262],\n",
              "       [ 1.91432181, -1.3778732 ],\n",
              "       [-0.22045176,  2.116445  ],\n",
              "       [ 0.94397019,  1.94317303],\n",
              "       [-0.1234166 ,  0.18157459],\n",
              "       [ 0.16768889,  0.21045326],\n",
              "       [-1.87004951, -1.49338785],\n",
              "       [ 0.94397019, -1.17572256],\n",
              "       [ 0.94397019,  2.02980902],\n",
              "       [ 0.36175921,  1.07681314],\n",
              "       [-0.31748692, -0.39599866],\n",
              "       [ 0.94397019,  1.39447843],\n",
              "       [ 0.6528647 , -1.40675186],\n",
              "       [ 0.84693502, -1.17572256],\n",
              "       [-0.51155725, -0.80029994],\n",
              "       [-0.89969789,  0.12381727],\n",
              "       [-1.19080338,  0.38372523],\n",
              "       [ 1.13804051, -1.00245058],\n",
              "       [-0.99673306, -1.11796524],\n",
              "       [ 1.23507567, -1.3778732 ],\n",
              "       [ 0.74989986,  1.33672111],\n",
              "       [ 1.52618116,  1.07681314],\n",
              "       [-0.1234166 , -0.02057605],\n",
              "       [-0.41452208,  0.03718128],\n",
              "       [ 1.33211083, -0.94469326],\n",
              "       [ 1.91432181,  0.8746625 ],\n",
              "       [-0.70562757, -0.1360907 ],\n",
              "       [ 0.16768889, -0.16496936],\n",
              "       [-1.09376822,  0.49923988],\n",
              "       [ 0.07065373,  0.06605994],\n",
              "       [-1.87004951, -1.32011588],\n",
              "       [-0.51155725, -0.85805727],\n",
              "       [-0.41452208, -0.80029994],\n",
              "       [ 0.94397019, -1.08908657],\n",
              "       [-0.31748692, -1.3778732 ],\n",
              "       [ 0.36175921,  0.26821058],\n",
              "       [-0.1234166 ,  0.23933192],\n",
              "       [-0.80266273, -0.62702797],\n",
              "       [ 0.94397019, -1.03132925],\n",
              "       [ 0.84693502, -0.62702797],\n",
              "       [-0.31748692, -0.33824134],\n",
              "       [-0.31748692, -0.94469326],\n",
              "       [ 0.55582954,  1.97205169],\n",
              "       [-1.19080338,  0.29708924],\n",
              "       [-1.57894403,  0.29708924],\n",
              "       [ 2.10839213,  1.07681314],\n",
              "       [ 0.07065373,  0.23933192],\n",
              "       [ 0.6528647 ,  1.74102239],\n",
              "       [-0.70562757,  0.52811855],\n",
              "       [ 1.72025148,  1.79877971],\n",
              "       [ 0.07065373,  1.82765838],\n",
              "       [ 1.91432181,  2.116445  ],\n",
              "       [ 2.01135697, -0.82917861],\n",
              "       [ 0.36175921,  0.06605994],\n",
              "       [-1.19080338,  0.26821058],\n",
              "       [ 1.81728665,  0.0949386 ],\n",
              "       [-0.89969789, -0.80029994],\n",
              "       [ 0.94397019,  0.0949386 ],\n",
              "       [-1.09376822, -1.1468439 ],\n",
              "       [ 0.26472405,  0.03718128],\n",
              "       [ 0.94397019,  1.82765838],\n",
              "       [-1.19080338, -0.54039198],\n",
              "       [ 1.33211083,  1.94317303],\n",
              "       [ 0.16768889,  0.12381727],\n",
              "       [-0.1234166 ,  0.0949386 ],\n",
              "       [ 0.26472405, -0.74254262],\n",
              "       [-0.22045176, -0.22272669],\n",
              "       [-0.31748692,  0.58587587],\n",
              "       [ 0.74989986,  0.0949386 ],\n",
              "       [-0.89969789,  0.35484657],\n",
              "       [ 0.6528647 , -1.11796524],\n",
              "       [-0.60859241,  1.33672111],\n",
              "       [-0.51155725,  2.26083832],\n",
              "       [ 0.26472405,  0.23933192],\n",
              "       [ 0.36175921,  0.23933192],\n",
              "       [-1.09376822, -1.55114518],\n",
              "       [-1.09376822, -0.48263465],\n",
              "       [-0.60859241,  1.33672111],\n",
              "       [ 0.84693502, -1.32011588],\n",
              "       [ 1.33211083,  0.55699721],\n",
              "       [ 1.72025148,  0.96129849],\n",
              "       [-0.02638143, -0.5981493 ],\n",
              "       [ 1.52618116,  0.96129849],\n",
              "       [-0.31748692, -0.9158146 ],\n",
              "       [-0.41452208, -0.80029994],\n",
              "       [-1.3848737 , -0.45375599],\n",
              "       [-0.70562757, -1.52226652],\n",
              "       [-0.22045176, -0.48263465],\n",
              "       [-0.1234166 , -0.51151332],\n",
              "       [-1.28783854,  0.23933192],\n",
              "       [ 1.72025148, -0.30936268],\n",
              "       [ 0.16768889,  2.05868768],\n",
              "       [ 0.16768889, -0.39599866],\n",
              "       [-0.41452208, -1.32011588],\n",
              "       [-1.96708468,  0.32596791],\n",
              "       [-0.1234166 ,  0.6436332 ],\n",
              "       [-1.19080338, -1.6089025 ],\n",
              "       [ 0.84693502, -1.06020791],\n",
              "       [-1.67597919,  0.49923988],\n",
              "       [-0.1234166 ,  2.17420233],\n",
              "       [ 0.6528647 , -1.29123721],\n",
              "       [-0.22045176,  0.12381727],\n",
              "       [-0.22045176, -0.30936268],\n",
              "       [ 1.429146  ,  0.32596791],\n",
              "       [-0.99673306,  0.38372523],\n",
              "       [ 2.10839213, -0.82917861],\n",
              "       [-1.77301435,  0.32596791],\n",
              "       [ 0.16768889, -0.28048401],\n",
              "       [-1.19080338,  0.26821058],\n",
              "       [-1.3848737 , -1.11796524],\n",
              "       [-0.31748692, -1.26235855],\n",
              "       [-0.1234166 ,  0.26821058],\n",
              "       [-1.3848737 ,  0.38372523],\n",
              "       [ 1.52618116, -1.29123721],\n",
              "       [ 1.62321632,  1.56775041],\n",
              "       [-1.09376822, -0.36712   ],\n",
              "       [-0.99673306, -0.77142128],\n",
              "       [-0.1234166 ,  0.21045326],\n",
              "       [ 0.07065373, -0.28048401],\n",
              "       [ 0.74989986, -1.3778732 ],\n",
              "       [ 1.429146  ,  0.96129849],\n",
              "       [-0.51155725, -0.56927064],\n",
              "       [ 0.16768889, -0.30936268],\n",
              "       [-0.1234166 ,  0.00830262],\n",
              "       [-1.28783854,  0.26821058],\n",
              "       [ 0.16768889,  0.12381727],\n",
              "       [-0.1234166 , -0.45375599],\n",
              "       [-0.99673306,  0.4126039 ],\n",
              "       [ 0.36175921, -0.48263465],\n",
              "       [ 1.81728665, -0.30936268],\n",
              "       [ 0.16768889, -0.68478529],\n",
              "       [-1.19080338, -1.11796524],\n",
              "       [-1.19080338, -1.6089025 ],\n",
              "       [ 0.74989986,  0.49923988],\n",
              "       [-1.87004951, -1.29123721],\n",
              "       [ 0.6528647 ,  0.23933192],\n",
              "       [ 0.26472405, -0.30936268],\n",
              "       [ 0.07065373,  1.01905582],\n",
              "       [ 0.84693502, -0.5981493 ],\n",
              "       [-0.31748692, -0.36712   ],\n",
              "       [-1.19080338,  0.03718128],\n",
              "       [-0.89969789,  0.26821058],\n",
              "       [ 0.74989986, -1.40675186],\n",
              "       [ 2.10839213, -0.71366396],\n",
              "       [ 0.6528647 , -0.74254262],\n",
              "       [-0.70562757, -1.6089025 ],\n",
              "       [-1.77301435,  0.0949386 ],\n",
              "       [ 1.04100535,  0.44148256],\n",
              "       [ 0.74989986, -0.33824134],\n",
              "       [ 0.07065373, -0.82917861],\n",
              "       [-1.77301435, -0.62702797],\n",
              "       [-0.31748692,  0.23933192],\n",
              "       [-0.89969789, -0.28048401],\n",
              "       [-0.99673306,  1.50999308],\n",
              "       [-0.80266273,  0.52811855],\n",
              "       [ 0.94397019,  0.55699721],\n",
              "       [ 2.01135697,  0.49923988],\n",
              "       [-1.19080338, -1.55114518],\n",
              "       [-0.41452208,  1.19232779],\n",
              "       [ 1.04100535,  2.02980902],\n",
              "       [-1.19080338, -0.80029994],\n",
              "       [-0.31748692, -1.32011588],\n",
              "       [ 0.94397019,  1.74102239],\n",
              "       [-0.51155725, -0.04945471],\n",
              "       [-0.31748692, -0.45375599],\n",
              "       [-0.02638143, -0.5981493 ],\n",
              "       [-1.3848737 , -1.26235855],\n",
              "       [ 2.01135697,  0.35484657],\n",
              "       [-0.1234166 ,  1.91429436],\n",
              "       [-0.22045176,  1.36559977],\n",
              "       [-0.02638143,  1.19232779],\n",
              "       [-0.31748692, -0.5981493 ],\n",
              "       [-0.60859241, -1.52226652],\n",
              "       [-0.89969789, -1.23347989],\n",
              "       [-0.02638143, -0.16496936],\n",
              "       [-1.19080338, -1.58002384],\n",
              "       [ 0.36175921, -0.16496936],\n",
              "       [-0.02638143,  0.26821058],\n",
              "       [ 1.91432181, -0.68478529],\n",
              "       [-0.02638143, -0.28048401],\n",
              "       [ 0.07065373,  0.12381727],\n",
              "       [-0.1234166 ,  0.03718128],\n",
              "       [-0.99673306, -0.33824134],\n",
              "       [ 1.04100535, -1.23347989],\n",
              "       [-0.22045176,  1.56775041],\n",
              "       [-1.48190887,  0.32596791],\n",
              "       [-0.31748692, -0.68478529],\n",
              "       [-0.80266273, -1.55114518],\n",
              "       [ 1.81728665, -1.08908657],\n",
              "       [-1.3848737 , -1.3778732 ],\n",
              "       [-0.31748692,  0.03718128],\n",
              "       [-1.3848737 ,  0.52811855],\n",
              "       [ 0.84693502, -1.46450919],\n",
              "       [ 1.13804051,  0.49923988],\n",
              "       [-0.31748692, -0.51151332],\n",
              "       [-0.31748692, -0.28048401],\n",
              "       [-0.70562757, -0.36712   ],\n",
              "       [ 0.45879438,  1.68326506],\n",
              "       [ 0.07065373,  0.73026919],\n",
              "       [-0.99673306, -0.45375599],\n",
              "       [-1.67597919,  0.03718128],\n",
              "       [-0.31748692,  0.18157459],\n",
              "       [-0.1234166 , -0.54039198],\n",
              "       [ 0.36175921,  0.96129849],\n",
              "       [ 2.01135697,  0.15269593],\n",
              "       [-1.57894403, -0.22272669],\n",
              "       [ 0.07065373, -0.82917861],\n",
              "       [ 0.16768889,  0.00830262],\n",
              "       [-0.99673306, -0.33824134],\n",
              "       [-1.09376822,  0.52811855],\n",
              "       [-0.70562757, -1.06020791],\n",
              "       [ 1.81728665,  1.48111442],\n",
              "       [-0.31748692,  0.12381727],\n",
              "       [ 0.84693502,  0.99017715],\n",
              "       [-0.80266273,  0.23933192],\n",
              "       [-1.28783854,  0.47036122],\n",
              "       [ 1.13804051, -1.46450919],\n",
              "       [-1.48190887, -1.46450919],\n",
              "       [-1.96708468, -0.54039198],\n",
              "       [ 0.26472405, -0.56927064],\n",
              "       [-0.41452208,  1.27896378],\n",
              "       [-0.99673306,  0.47036122],\n",
              "       [-0.31748692,  2.20308099],\n",
              "       [ 0.36175921,  0.55699721],\n",
              "       [-0.02638143,  0.00830262],\n",
              "       [ 0.74989986, -0.85805727],\n",
              "       [ 0.84693502,  1.22120646],\n",
              "       [-1.67597919, -1.58002384],\n",
              "       [ 1.429146  ,  0.03718128],\n",
              "       [-0.89969789,  0.35484657],\n",
              "       [ 1.04100535,  0.49923988],\n",
              "       [-0.31748692,  0.75914785],\n",
              "       [ 1.33211083, -1.43563053],\n",
              "       [ 0.16768889, -0.39599866],\n",
              "       [ 0.26472405, -0.33824134],\n",
              "       [ 0.55582954, -0.9158146 ],\n",
              "       [ 1.04100535,  0.0949386 ],\n",
              "       [ 0.74989986,  0.73026919],\n",
              "       [ 2.10839213, -0.82917861],\n",
              "       [ 1.04100535, -0.9158146 ],\n",
              "       [-0.80266273, -0.25160535],\n",
              "       [ 0.84693502, -0.80029994],\n",
              "       [ 0.84693502, -0.68478529],\n",
              "       [-0.51155725, -0.30936268],\n",
              "       [ 1.62321632,  1.71214372],\n",
              "       [ 1.23507567,  2.17420233],\n",
              "       [ 0.36175921, -0.51151332],\n",
              "       [-1.09376822,  0.55699721],\n",
              "       [-0.02638143, -0.45375599],\n",
              "       [-1.77301435, -1.3778732 ],\n",
              "       [-0.31748692, -1.46450919],\n",
              "       [ 2.01135697,  1.71214372],\n",
              "       [-0.60859241,  1.4233571 ],\n",
              "       [ 0.16768889, -0.39599866],\n",
              "       [-0.51155725, -1.23347989],\n",
              "       [-0.31748692,  0.49923988],\n",
              "       [ 0.07065373,  1.48111442],\n",
              "       [-0.99673306,  0.23933192],\n",
              "       [ 1.04100535, -1.00245058],\n",
              "       [-0.31748692,  0.06605994],\n",
              "       [-0.1234166 ,  0.26821058],\n",
              "       [ 1.33211083,  2.28971698],\n",
              "       [-0.22045176, -0.5981493 ],\n",
              "       [ 0.07065373,  0.00830262],\n",
              "       [-0.22045176, -0.54039198],\n",
              "       [ 1.429146  ,  2.08756634],\n",
              "       [ 1.04100535, -0.16496936],\n",
              "       [ 0.74989986,  0.23933192],\n",
              "       [-0.31748692, -0.77142128],\n",
              "       [-0.99673306, -0.97357192],\n",
              "       [ 0.45879438,  1.19232779],\n",
              "       [ 0.26472405,  0.26821058],\n",
              "       [ 0.07065373, -0.33824134],\n",
              "       [-0.80266273,  0.26821058],\n",
              "       [-1.19080338,  0.44148256],\n",
              "       [ 2.01135697, -1.20460122],\n",
              "       [-1.09376822,  1.91429436],\n",
              "       [-0.22045176,  1.59662907],\n",
              "       [ 0.84693502, -0.56927064],\n",
              "       [ 1.91432181, -0.94469326],\n",
              "       [-1.09376822, -1.46450919],\n",
              "       [-0.70562757,  0.0949386 ],\n",
              "       [ 0.26472405,  0.47036122],\n",
              "       [ 0.94397019,  0.73026919],\n",
              "       [-0.02638143, -0.33824134],\n",
              "       [ 0.07065373,  0.00830262],\n",
              "       [-0.31748692, -1.40675186],\n",
              "       [ 2.10839213, -1.06020791],\n",
              "       [-0.22045176, -1.08908657],\n",
              "       [-0.51155725, -1.1468439 ],\n",
              "       [ 0.94397019, -0.85805727],\n",
              "       [ 0.07065373,  1.82765838],\n",
              "       [-1.77301435,  0.32596791],\n",
              "       [-1.87004951, -1.43563053],\n",
              "       [ 0.07065373,  0.18157459],\n",
              "       [ 0.45879438,  1.79877971],\n",
              "       [ 1.33211083,  1.25008512],\n",
              "       [-1.19080338, -1.17572256],\n",
              "       [-1.28783854, -1.08908657],\n",
              "       [ 0.84693502,  1.04793448],\n",
              "       [-0.70562757,  0.00830262],\n",
              "       [ 0.36175921, -0.48263465],\n",
              "       [-0.31748692, -0.30936268],\n",
              "       [-0.51155725,  1.22120646],\n",
              "       [-0.80266273,  1.30784244],\n",
              "       [-1.3848737 , -0.45375599],\n",
              "       [-0.02638143, -0.56927064],\n",
              "       [-0.60859241,  1.85653704],\n",
              "       [ 0.94397019, -1.20460122],\n",
              "       [ 0.36175921,  0.26821058],\n",
              "       [ 0.36175921,  0.12381727],\n",
              "       [ 0.84693502,  2.116445  ],\n",
              "       [-1.87004951, -0.02057605],\n",
              "       [ 1.23507567,  1.82765838],\n",
              "       [-1.96708468,  0.44148256],\n",
              "       [-0.60859241,  2.28971698],\n",
              "       [ 2.01135697,  2.08756634],\n",
              "       [ 0.26472405,  0.03718128]])"
            ]
          },
          "metadata": {},
          "execution_count": 20
        }
      ],
      "source": [
        "X_train"
      ]
    },
    {
      "cell_type": "code",
      "execution_count": 21,
      "id": "476a1c89",
      "metadata": {
        "id": "476a1c89"
      },
      "outputs": [],
      "source": [
        "    #Load Logistic Regression model\n",
        "    from sklearn.linear_model import LogisticRegression"
      ]
    },
    {
      "cell_type": "code",
      "execution_count": 22,
      "id": "e3420dd9",
      "metadata": {
        "colab": {
          "base_uri": "https://localhost:8080/",
          "height": 74
        },
        "id": "e3420dd9",
        "outputId": "020f2c27-9b0e-49bc-c92d-1a9176a638ce"
      },
      "outputs": [
        {
          "output_type": "execute_result",
          "data": {
            "text/plain": [
              "LogisticRegression()"
            ],
            "text/html": [
              "<style>#sk-container-id-1 {color: black;}#sk-container-id-1 pre{padding: 0;}#sk-container-id-1 div.sk-toggleable {background-color: white;}#sk-container-id-1 label.sk-toggleable__label {cursor: pointer;display: block;width: 100%;margin-bottom: 0;padding: 0.3em;box-sizing: border-box;text-align: center;}#sk-container-id-1 label.sk-toggleable__label-arrow:before {content: \"▸\";float: left;margin-right: 0.25em;color: #696969;}#sk-container-id-1 label.sk-toggleable__label-arrow:hover:before {color: black;}#sk-container-id-1 div.sk-estimator:hover label.sk-toggleable__label-arrow:before {color: black;}#sk-container-id-1 div.sk-toggleable__content {max-height: 0;max-width: 0;overflow: hidden;text-align: left;background-color: #f0f8ff;}#sk-container-id-1 div.sk-toggleable__content pre {margin: 0.2em;color: black;border-radius: 0.25em;background-color: #f0f8ff;}#sk-container-id-1 input.sk-toggleable__control:checked~div.sk-toggleable__content {max-height: 200px;max-width: 100%;overflow: auto;}#sk-container-id-1 input.sk-toggleable__control:checked~label.sk-toggleable__label-arrow:before {content: \"▾\";}#sk-container-id-1 div.sk-estimator input.sk-toggleable__control:checked~label.sk-toggleable__label {background-color: #d4ebff;}#sk-container-id-1 div.sk-label input.sk-toggleable__control:checked~label.sk-toggleable__label {background-color: #d4ebff;}#sk-container-id-1 input.sk-hidden--visually {border: 0;clip: rect(1px 1px 1px 1px);clip: rect(1px, 1px, 1px, 1px);height: 1px;margin: -1px;overflow: hidden;padding: 0;position: absolute;width: 1px;}#sk-container-id-1 div.sk-estimator {font-family: monospace;background-color: #f0f8ff;border: 1px dotted black;border-radius: 0.25em;box-sizing: border-box;margin-bottom: 0.5em;}#sk-container-id-1 div.sk-estimator:hover {background-color: #d4ebff;}#sk-container-id-1 div.sk-parallel-item::after {content: \"\";width: 100%;border-bottom: 1px solid gray;flex-grow: 1;}#sk-container-id-1 div.sk-label:hover label.sk-toggleable__label {background-color: #d4ebff;}#sk-container-id-1 div.sk-serial::before {content: \"\";position: absolute;border-left: 1px solid gray;box-sizing: border-box;top: 0;bottom: 0;left: 50%;z-index: 0;}#sk-container-id-1 div.sk-serial {display: flex;flex-direction: column;align-items: center;background-color: white;padding-right: 0.2em;padding-left: 0.2em;position: relative;}#sk-container-id-1 div.sk-item {position: relative;z-index: 1;}#sk-container-id-1 div.sk-parallel {display: flex;align-items: stretch;justify-content: center;background-color: white;position: relative;}#sk-container-id-1 div.sk-item::before, #sk-container-id-1 div.sk-parallel-item::before {content: \"\";position: absolute;border-left: 1px solid gray;box-sizing: border-box;top: 0;bottom: 0;left: 50%;z-index: -1;}#sk-container-id-1 div.sk-parallel-item {display: flex;flex-direction: column;z-index: 1;position: relative;background-color: white;}#sk-container-id-1 div.sk-parallel-item:first-child::after {align-self: flex-end;width: 50%;}#sk-container-id-1 div.sk-parallel-item:last-child::after {align-self: flex-start;width: 50%;}#sk-container-id-1 div.sk-parallel-item:only-child::after {width: 0;}#sk-container-id-1 div.sk-dashed-wrapped {border: 1px dashed gray;margin: 0 0.4em 0.5em 0.4em;box-sizing: border-box;padding-bottom: 0.4em;background-color: white;}#sk-container-id-1 div.sk-label label {font-family: monospace;font-weight: bold;display: inline-block;line-height: 1.2em;}#sk-container-id-1 div.sk-label-container {text-align: center;}#sk-container-id-1 div.sk-container {/* jupyter's `normalize.less` sets `[hidden] { display: none; }` but bootstrap.min.css set `[hidden] { display: none !important; }` so we also need the `!important` here to be able to override the default hidden behavior on the sphinx rendered scikit-learn.org. See: https://github.com/scikit-learn/scikit-learn/issues/21755 */display: inline-block !important;position: relative;}#sk-container-id-1 div.sk-text-repr-fallback {display: none;}</style><div id=\"sk-container-id-1\" class=\"sk-top-container\"><div class=\"sk-text-repr-fallback\"><pre>LogisticRegression()</pre><b>In a Jupyter environment, please rerun this cell to show the HTML representation or trust the notebook. <br />On GitHub, the HTML representation is unable to render, please try loading this page with nbviewer.org.</b></div><div class=\"sk-container\" hidden><div class=\"sk-item\"><div class=\"sk-estimator sk-toggleable\"><input class=\"sk-toggleable__control sk-hidden--visually\" id=\"sk-estimator-id-1\" type=\"checkbox\" checked><label for=\"sk-estimator-id-1\" class=\"sk-toggleable__label sk-toggleable__label-arrow\">LogisticRegression</label><div class=\"sk-toggleable__content\"><pre>LogisticRegression()</pre></div></div></div></div></div>"
            ]
          },
          "metadata": {},
          "execution_count": 22
        }
      ],
      "source": [
        "# Logistic Regression to the training set\n",
        "\n",
        "model= LogisticRegression()\n",
        "model.fit(X_train, y_train)"
      ]
    },
    {
      "cell_type": "code",
      "execution_count": 23,
      "id": "17c0a94b",
      "metadata": {
        "id": "17c0a94b"
      },
      "outputs": [],
      "source": [
        "#Predicting the test set result\n",
        "y_pred= model.predict(X_test)"
      ]
    },
    {
      "cell_type": "code",
      "execution_count": 24,
      "id": "b569cead",
      "metadata": {
        "id": "b569cead"
      },
      "outputs": [],
      "source": [
        "#Test Accuracy of the result\n",
        "#Creating the Confusion matrix\n",
        "from sklearn.metrics import confusion_matrix\n",
        "cm= confusion_matrix(y_test,y_pred)"
      ]
    },
    {
      "cell_type": "code",
      "execution_count": 25,
      "id": "af3fded7",
      "metadata": {
        "colab": {
          "base_uri": "https://localhost:8080/"
        },
        "id": "af3fded7",
        "outputId": "c6541316-d615-4018-e79a-d63405988731"
      },
      "outputs": [
        {
          "output_type": "execute_result",
          "data": {
            "text/plain": [
              "array([[54,  2],\n",
              "       [11, 13]])"
            ]
          },
          "metadata": {},
          "execution_count": 25
        }
      ],
      "source": [
        "cm"
      ]
    },
    {
      "cell_type": "code",
      "execution_count": 26,
      "id": "815bd467",
      "metadata": {
        "id": "815bd467"
      },
      "outputs": [],
      "source": [
        "accuracy=(cm[0][0]+cm[1][1])/(cm[0][0]+cm[0][1]+cm[1][0]+cm[1][1])"
      ]
    },
    {
      "cell_type": "code",
      "execution_count": 27,
      "id": "6985eca2",
      "metadata": {
        "colab": {
          "base_uri": "https://localhost:8080/"
        },
        "id": "6985eca2",
        "outputId": "c53d18e1-e4d4-4529-e54a-93675d70f78f"
      },
      "outputs": [
        {
          "output_type": "stream",
          "name": "stdout",
          "text": [
            "Model accuracy is 83.75 %\n"
          ]
        }
      ],
      "source": [
        "print(\"Model accuracy is\",(accuracy*100),\"%\")"
      ]
    },
    {
      "cell_type": "code",
      "execution_count": 28,
      "id": "18cd10e2",
      "metadata": {
        "colab": {
          "base_uri": "https://localhost:8080/",
          "height": 528
        },
        "id": "18cd10e2",
        "outputId": "e89dc841-2d01-42c7-add6-b72a35f859fb"
      },
      "outputs": [
        {
          "output_type": "stream",
          "name": "stderr",
          "text": [
            "<ipython-input-28-3c50a6be1b58>:11: UserWarning: *c* argument looks like a single numeric RGB or RGBA sequence, which should be avoided as value-mapping will have precedence in case its length matches with *x* & *y*.  Please use the *color* keyword-argument or provide a 2D array with a single row if you intend to specify the same RGB or RGBA value for all points.\n",
            "  plt.scatter(x_set[y_set == j, 0], x_set[y_set == j, 1],\n"
          ]
        },
        {
          "output_type": "display_data",
          "data": {
            "text/plain": [
              "<Figure size 640x480 with 1 Axes>"
            ],
            "image/png": "[encoded data removed]"
          },
          "metadata": {}
        }
      ],
      "source": [
        "    #Visualizing the training set result\n",
        "    from matplotlib.colors import ListedColormap\n",
        "    x_set, y_set = X_train, y_train\n",
        "    x1, x2 = np.meshgrid(np.arange(start = x_set[:, 0].min() - 1, stop = x_set[:, 0].max() + 1, step  =0.01),\n",
        "    np.arange(start = x_set[:, 1].min() - 1, stop = x_set[:, 1].max() + 1, step = 0.01))\n",
        "    plt.contourf(x1, x2, model.predict(np.array([x1.ravel(), x2.ravel()]).T).reshape(x1.shape),\n",
        "    alpha = 0.75, cmap = ListedColormap(('purple','green' )))\n",
        "    plt.xlim(x1.min(), x1.max())\n",
        "    plt.ylim(x2.min(), x2.max())\n",
        "    for i, j in enumerate(np.unique(y_set)):\n",
        "        plt.scatter(x_set[y_set == j, 0], x_set[y_set == j, 1],\n",
        "            c = ListedColormap(('purple', 'green'))(i), label = j)\n",
        "    plt.title('Logistic Regression (Training set)')\n",
        "    plt.xlabel('Age')\n",
        "    plt.ylabel('Estimated Salary')\n",
        "    plt.legend()\n",
        "    plt.show()"
      ]
    },
    {
      "cell_type": "code",
      "execution_count": 29,
      "id": "c21aedde",
      "metadata": {
        "colab": {
          "base_uri": "https://localhost:8080/",
          "height": 528
        },
        "id": "c21aedde",
        "outputId": "01e930c5-0a6d-43ff-dc3c-14a64cdd2fa8"
      },
      "outputs": [
        {
          "output_type": "stream",
          "name": "stderr",
          "text": [
            "<ipython-input-29-8666d2f49f0a>:10: UserWarning: *c* argument looks like a single numeric RGB or RGBA sequence, which should be avoided as value-mapping will have precedence in case its length matches with *x* & *y*.  Please use the *color* keyword-argument or provide a 2D array with a single row if you intend to specify the same RGB or RGBA value for all points.\n",
            "  plt.scatter(x_set[y_set == j, 0], x_set[y_set == j, 1],\n"
          ]
        },
        {
          "output_type": "display_data",
          "data": {
            "text/plain": [
              "<Figure size 640x480 with 1 Axes>"
            ],
            "image/png": "[encoded data removed]"
          },
          "metadata": {}
        }
      ],
      "source": [
        "from matplotlib.colors import ListedColormap\n",
        "x_set, y_set = X_test, y_test\n",
        "x1, x2 = np.meshgrid(np.arange(start = x_set[:, 0].min() - 1, stop = x_set[:, 0].max() + 1, step  =0.01),\n",
        "np.arange(start = x_set[:, 1].min() - 1, stop = x_set[:, 1].max() + 1, step = 0.01))\n",
        "plt.contourf(x1, x2, model.predict(np.array([x1.ravel(), x2.ravel()]).T).reshape(x1.shape),\n",
        "alpha = 0.75, cmap = ListedColormap(('purple','green' )))\n",
        "plt.xlim(x1.min(), x1.max())\n",
        "plt.ylim(x2.min(), x2.max())\n",
        "for i, j in enumerate(np.unique(y_set)):\n",
        "    plt.scatter(x_set[y_set == j, 0], x_set[y_set == j, 1],\n",
        "        c = ListedColormap(('purple', 'green'))(i), label = j)\n",
        "plt.title('Logistic Regression (Test set)')\n",
        "plt.xlabel('Age')\n",
        "plt.ylabel('Estimated Salary')\n",
        "plt.legend()\n",
        "plt.show()"
      ]
    },
    {
      "cell_type": "code",
      "execution_count": 29,
      "id": "17363b43",
      "metadata": {
        "id": "17363b43"
      },
      "outputs": [],
      "source": []
    }
  ],
  "metadata": {
    "kernelspec": {
      "display_name": "Python 3 (ipykernel)",
      "language": "python",
      "name": "python3"
    },
    "language_info": {
      "codemirror_mode": {
        "name": "ipython",
        "version": 3
      },
      "file_extension": ".py",
      "mimetype": "text/x-python",
      "name": "python",
      "nbconvert_exporter": "python",
      "pygments_lexer": "ipython3",
      "version": "3.11.4"
    },
    "colab": {
      "provenance": [],
      "include_colab_link": true
    }
  },
  "nbformat": 4,
  "nbformat_minor": 5
}